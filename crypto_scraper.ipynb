{
 "cells": [
  {
   "cell_type": "code",
   "execution_count": 1,
   "metadata": {},
   "outputs": [],
   "source": [
    "from time import gmtime, strftime\n",
    "import pandas as pd\n",
    "import pickle\n",
    "\n",
    "from selenium import webdriver\n",
    "from selenium.webdriver.chrome.options import Options\n",
    "\n",
    "driver_loc = 'src/chromedriver'"
   ]
  },
  {
   "cell_type": "code",
   "execution_count": 24,
   "metadata": {},
   "outputs": [],
   "source": [
    "def crypto_scraper(currency, start_date, end_date = strftime(\"%Y%m%d\")):\n",
    "    start_time = strftime(\"%Y-%m-%d %H:%M:%S\", gmtime())\n",
    "    driver = webdriver.Chrome(driver_loc, options=Options())\n",
    "    \n",
    "    url = 'https://www.coinmarketcap.com/currencies/' + currency + '/historical-data/?start=' + str(start_date) + '&end=' + str(end_date)\n",
    "    \n",
    "    driver.get(url)\n",
    "    \n",
    "    html_table = driver.find_element_by_xpath(\"//div[@id='historical-data']/div/div[2]/table\").get_attribute('outerHTML')\n",
    "    \n",
    "    df = pd.read_html(html_table)[0]\n",
    "\n",
    "    df.to_csv('scraped_data/currency_data_' + currency + '.csv')\n",
    "\n",
    "    end_time = strftime(\"%Y-%m-%d %H:%M:%S\", gmtime())\n",
    "    print('Start Time: ' + start_time)\n",
    "    print('End Time: ' + end_time)"
   ]
  },
  {
   "cell_type": "code",
   "execution_count": null,
   "metadata": {},
   "outputs": [],
   "source": []
  },
  {
   "cell_type": "code",
   "execution_count": 26,
   "metadata": {},
   "outputs": [
    {
     "name": "stdout",
     "output_type": "stream",
     "text": [
      "Start Time: 2019-06-08 21:03:17\n",
      "End Time: 2019-06-08 21:03:32\n"
     ]
    }
   ],
   "source": [
    "crypto_scraper('Stellar', 20130428)"
   ]
  },
  {
   "cell_type": "code",
   "execution_count": 27,
   "metadata": {},
   "outputs": [
    {
     "name": "stdout",
     "output_type": "stream",
     "text": [
      "Start Time: 2019-06-08 21:11:36\n",
      "End Time: 2019-06-08 21:11:53\n"
     ]
    }
   ],
   "source": [
    "crypto_scraper('Dash', 20130428)"
   ]
  },
  {
   "cell_type": "code",
   "execution_count": 28,
   "metadata": {},
   "outputs": [
    {
     "name": "stdout",
     "output_type": "stream",
     "text": [
      "Start Time: 2019-06-08 21:11:53\n",
      "End Time: 2019-06-08 21:12:08\n"
     ]
    }
   ],
   "source": [
    "crypto_scraper('Ethereum-Classic', 20130428)"
   ]
  },
  {
   "cell_type": "code",
   "execution_count": 29,
   "metadata": {},
   "outputs": [
    {
     "name": "stdout",
     "output_type": "stream",
     "text": [
      "Start Time: 2019-06-08 21:12:08\n",
      "End Time: 2019-06-08 21:12:23\n"
     ]
    }
   ],
   "source": [
    "crypto_scraper('Cosmos', 20130428)"
   ]
  }
 ],
 "metadata": {
  "kernelspec": {
   "display_name": "Python 3",
   "language": "python",
   "name": "python3"
  },
  "language_info": {
   "codemirror_mode": {
    "name": "ipython",
    "version": 3
   },
   "file_extension": ".py",
   "mimetype": "text/x-python",
   "name": "python",
   "nbconvert_exporter": "python",
   "pygments_lexer": "ipython3",
   "version": "3.7.2"
  }
 },
 "nbformat": 4,
 "nbformat_minor": 2
}
